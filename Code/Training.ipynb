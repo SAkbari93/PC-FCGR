{
 "cells": [
  {
   "cell_type": "markdown",
   "metadata": {},
   "source": [
    "<div class=\"alert alert-info\">\n",
    "    <h2 align=\"center\"> PC-FCGR: Accurate and fast machine learning-based classification by means of Physico-chemical FCGR encoding</h2>\n",
    "    <h3 align=\"center\"><a href=\"http://sharif.edu/~koohi/\">Saeedeh Akbari Rokn Abadi</a>, <a href=\"http://sharif.edu/~koohi/\">Amirhossein Mohammadi</a>, <a href=\"http://sharif.edu/~koohi/\">Somayyeh Koohi</a></h3>\n",
    "</div>"
   ]
  },
  {
   "cell_type": "markdown",
   "metadata": {},
   "source": [
    "## Import Library and Modules\n"
   ]
  },
  {
   "cell_type": "code",
   "execution_count": 1,
   "metadata": {},
   "outputs": [],
   "source": [
    "import time\n",
    "import os, os.path\n",
    "from os import listdir\n",
    "from os.path import isfile, join\n",
    "import numpy as np\n",
    "import pandas as pd \n",
    "import sys\n",
    "import re\n",
    "import random\n",
    "from sklearn.metrics import roc_curve, auc\n",
    "from sklearn.model_selection import StratifiedKFold\n",
    "import matplotlib.pyplot as plt\n",
    "from sklearn.datasets import make_classification\n",
    "from sklearn.model_selection import train_test_split\n",
    "from sklearn.metrics import f1_score, precision_score, recall_score, accuracy_score,balanced_accuracy_score\n",
    "from sklearn.metrics import confusion_matrix\n",
    "import warnings\n",
    "warnings.filterwarnings('ignore')"
   ]
  },
  {
   "cell_type": "markdown",
   "metadata": {},
   "source": [
    "## Define Encoding Method"
   ]
  },
  {
   "cell_type": "code",
   "execution_count": 2,
   "metadata": {},
   "outputs": [],
   "source": [
    "def Change_DNA(dna):\n",
    "    dna = dna.replace(\"\\n\" , \"\")\n",
    "    dna = dna.upper()\n",
    "    dna = ''.join(i for i in dna if i ==\"A\" or i == \"C\" or i == \"G\" or i == \"T\")\n",
    "    return dna[10:]\n",
    "\n",
    "def PC_FCGR(dna):    \n",
    "    vector = 1024 #Determining the length of three vectors {weak or strong}, {amino or keto} and {purine or pyrimidine} based on k-mer size==>2^k\n",
    "    start = vector // 2\n",
    "    x = start\n",
    "\n",
    "    weakStrong = [0] * (vector) #CG , AT\n",
    "    aminoKeto = [0] * (vector) #AC , GT\n",
    "    PurPyr = [0] * (vector) #AG , CT\n",
    "\n",
    "    #weak or strong\n",
    "    for i in range(len(dna)):\n",
    "        if dna[i] == \"C\" or dna[i] == \"G\":\n",
    "            x = (x + vector) // 2\n",
    "            weakStrong[x] = weakStrong[x] + 1 \n",
    "        \n",
    "        elif dna[i] == \"A\" or dna[i] == \"T\":\n",
    "            x = (x + 0) // 2\n",
    "            weakStrong[x] = weakStrong[x] + 1\n",
    "\n",
    "    x = start\n",
    "    #amino or keto       \n",
    "    for i in range(len(dna)):\n",
    "        if dna[i] == \"C\" or dna[i] == \"A\":\n",
    "            x = (x + vector) // 2\n",
    "            aminoKeto[x] = aminoKeto[x] + 1 \n",
    "        \n",
    "        elif dna[i] == \"G\" or dna[i] == \"T\":\n",
    "            x = (x + 0) // 2\n",
    "            aminoKeto[x] = aminoKeto[x] + 1\n",
    "\n",
    "    x = start\n",
    "    #purine or pyrimidine\n",
    "    for i in range(len(dna)):\n",
    "        if dna[i] == \"C\" or dna[i] == \"T\":\n",
    "            x = (x + vector) // 2\n",
    "            PurPyr[x] = PurPyr[x] + 1 \n",
    "        \n",
    "        elif dna[i] == \"A\" or dna[i] == \"G\":\n",
    "            x = (x + 0) // 2\n",
    "            PurPyr[x] = PurPyr[x] + 1\n",
    "\n",
    "    arr = np.concatenate((PurPyr, aminoKeto, weakStrong))\n",
    "    return arr"
   ]
  },
  {
   "cell_type": "markdown",
   "metadata": {},
   "source": [
    "## Reading Data From the Specified Path and Encode Them Based on PC-FCGR Coding"
   ]
  },
  {
   "cell_type": "code",
   "execution_count": 3,
   "metadata": {},
   "outputs": [],
   "source": [
    "folders = []\n",
    "dna = []\n",
    "mypath = 'C://Users//asus//Desktop/Pro2_GNB/SGfamily/'\n",
    "my_list = os.listdir(mypath)            \n",
    "for i in range(len(my_list)):\n",
    "    path = mypath + \"\\\\\" + my_list[i]\n",
    "    s = os.listdir(path)\n",
    "    n = len(s)\n",
    "    \n",
    "    for j in range(n):\n",
    "        path1 = path + \"\\\\\" + s[j]\n",
    "        f = open(path1 , \"r\")\n",
    "        line = f.read()\n",
    "        f.close()\n",
    "        line = Change_DNA(line)\n",
    "        x = PC_FCGR(line)\n",
    "        dna.append(x)             "
   ]
  },
  {
   "cell_type": "markdown",
   "metadata": {},
   "source": [
    "## Extracting Labels"
   ]
  },
  {
   "cell_type": "code",
   "execution_count": 4,
   "metadata": {},
   "outputs": [],
   "source": [
    "path = 'C://Users//asus//Desktop/Pro2_GNB/SGfamily/data/'\n",
    "images = [f for f in os.listdir(path) if os.path.splitext(f)[-1] == '.txt']# Read Files\n",
    "imagelist=[]\n",
    "for image in images:\n",
    "    imagelist.append(image.split())\n",
    "\n",
    "labelarray=[]\n",
    "\n",
    "for i in imagelist:\n",
    "    labelarray.append(int((i[1])))#Reas Labels from File's Name\n",
    "\n",
    "newlabel=np.asarray(labelarray)\n",
    "newlabel.shape\n",
    "\n",
    "y_data=np.reshape(newlabel, (-1))\n",
    "label=list(y_data)#Label"
   ]
  },
  {
   "cell_type": "markdown",
   "metadata": {},
   "source": [
    "## Create A Data Frame (Label & Extracted vector based on PC-FCGR Coding)"
   ]
  },
  {
   "cell_type": "code",
   "execution_count": 5,
   "metadata": {},
   "outputs": [
    {
     "data": {
      "text/html": [
       "<div>\n",
       "<style scoped>\n",
       "    .dataframe tbody tr th:only-of-type {\n",
       "        vertical-align: middle;\n",
       "    }\n",
       "\n",
       "    .dataframe tbody tr th {\n",
       "        vertical-align: top;\n",
       "    }\n",
       "\n",
       "    .dataframe thead th {\n",
       "        text-align: right;\n",
       "    }\n",
       "</style>\n",
       "<table border=\"1\" class=\"dataframe\">\n",
       "  <thead>\n",
       "    <tr style=\"text-align: right;\">\n",
       "      <th></th>\n",
       "      <th>label</th>\n",
       "      <th>dna</th>\n",
       "    </tr>\n",
       "  </thead>\n",
       "  <tbody>\n",
       "    <tr>\n",
       "      <th>0</th>\n",
       "      <td>0</td>\n",
       "      <td>[0, 0, 0, 0, 1, 0, 1, 1, 1, 0, 1, 0, 0, 1, 2, ...</td>\n",
       "    </tr>\n",
       "    <tr>\n",
       "      <th>1</th>\n",
       "      <td>0</td>\n",
       "      <td>[0, 0, 0, 2, 0, 0, 2, 1, 0, 0, 0, 0, 1, 1, 1, ...</td>\n",
       "    </tr>\n",
       "    <tr>\n",
       "      <th>2</th>\n",
       "      <td>0</td>\n",
       "      <td>[1, 1, 0, 1, 1, 1, 2, 0, 1, 0, 2, 0, 0, 2, 0, ...</td>\n",
       "    </tr>\n",
       "    <tr>\n",
       "      <th>3</th>\n",
       "      <td>0</td>\n",
       "      <td>[0, 0, 0, 0, 0, 1, 1, 0, 0, 0, 1, 0, 0, 1, 0, ...</td>\n",
       "    </tr>\n",
       "    <tr>\n",
       "      <th>4</th>\n",
       "      <td>0</td>\n",
       "      <td>[0, 0, 0, 0, 0, 0, 1, 1, 0, 0, 1, 1, 0, 1, 1, ...</td>\n",
       "    </tr>\n",
       "    <tr>\n",
       "      <th>...</th>\n",
       "      <td>...</td>\n",
       "      <td>...</td>\n",
       "    </tr>\n",
       "    <tr>\n",
       "      <th>28219</th>\n",
       "      <td>38</td>\n",
       "      <td>[0, 1, 0, 1, 0, 0, 0, 1, 3, 0, 0, 0, 0, 0, 1, ...</td>\n",
       "    </tr>\n",
       "    <tr>\n",
       "      <th>28220</th>\n",
       "      <td>38</td>\n",
       "      <td>[0, 0, 0, 0, 0, 0, 0, 1, 0, 0, 0, 0, 0, 0, 2, ...</td>\n",
       "    </tr>\n",
       "    <tr>\n",
       "      <th>28221</th>\n",
       "      <td>38</td>\n",
       "      <td>[0, 0, 0, 0, 0, 0, 0, 0, 0, 0, 0, 1, 0, 0, 0, ...</td>\n",
       "    </tr>\n",
       "    <tr>\n",
       "      <th>28222</th>\n",
       "      <td>38</td>\n",
       "      <td>[1, 2, 1, 1, 1, 0, 1, 1, 0, 1, 0, 0, 0, 1, 1, ...</td>\n",
       "    </tr>\n",
       "    <tr>\n",
       "      <th>28223</th>\n",
       "      <td>38</td>\n",
       "      <td>[1, 1, 0, 1, 1, 0, 1, 1, 1, 0, 0, 0, 1, 0, 0, ...</td>\n",
       "    </tr>\n",
       "  </tbody>\n",
       "</table>\n",
       "<p>28224 rows × 2 columns</p>\n",
       "</div>"
      ],
      "text/plain": [
       "       label                                                dna\n",
       "0          0  [0, 0, 0, 0, 1, 0, 1, 1, 1, 0, 1, 0, 0, 1, 2, ...\n",
       "1          0  [0, 0, 0, 2, 0, 0, 2, 1, 0, 0, 0, 0, 1, 1, 1, ...\n",
       "2          0  [1, 1, 0, 1, 1, 1, 2, 0, 1, 0, 2, 0, 0, 2, 0, ...\n",
       "3          0  [0, 0, 0, 0, 0, 1, 1, 0, 0, 0, 1, 0, 0, 1, 0, ...\n",
       "4          0  [0, 0, 0, 0, 0, 0, 1, 1, 0, 0, 1, 1, 0, 1, 1, ...\n",
       "...      ...                                                ...\n",
       "28219     38  [0, 1, 0, 1, 0, 0, 0, 1, 3, 0, 0, 0, 0, 0, 1, ...\n",
       "28220     38  [0, 0, 0, 0, 0, 0, 0, 1, 0, 0, 0, 0, 0, 0, 2, ...\n",
       "28221     38  [0, 0, 0, 0, 0, 0, 0, 0, 0, 0, 0, 1, 0, 0, 0, ...\n",
       "28222     38  [1, 2, 1, 1, 1, 0, 1, 1, 0, 1, 0, 0, 0, 1, 1, ...\n",
       "28223     38  [1, 1, 0, 1, 1, 0, 1, 1, 1, 0, 0, 0, 1, 0, 0, ...\n",
       "\n",
       "[28224 rows x 2 columns]"
      ]
     },
     "execution_count": 5,
     "metadata": {},
     "output_type": "execute_result"
    }
   ],
   "source": [
    "df = pd.DataFrame({  \n",
    "    \"label\": label,\n",
    "    \"dna\": dna,\n",
    "})\n",
    "df"
   ]
  },
  {
   "cell_type": "markdown",
   "metadata": {},
   "source": [
    "## Save the ٍٍٍExtracted Vectors"
   ]
  },
  {
   "cell_type": "code",
   "execution_count": 6,
   "metadata": {},
   "outputs": [],
   "source": [
    "df.to_csv('GNB-SG-3mers.csv',index=False)"
   ]
  },
  {
   "cell_type": "markdown",
   "metadata": {},
   "source": [
    "## Define Default parameters"
   ]
  },
  {
   "cell_type": "code",
   "execution_count": 7,
   "metadata": {},
   "outputs": [],
   "source": [
    "X = list(df['dna'])\n",
    "y = list(df['label'])\n",
    "X=np.array(X)\n",
    "y=np.array(y)\n",
    "kfold = 10\n",
    "sumSen = 0\n",
    "sumSpec = 0\n",
    "sumP = 0\n",
    "sumR = 0\n",
    "sumF = 0\n",
    "sumacc=0\n",
    "sumaccbl=0\n",
    "current_directory = os.getcwd()\n",
    "final_directory = os.path.join(current_directory, r'CM')\n",
    "if not os.path.exists(final_directory):\n",
    "    os.makedirs(final_directory)"
   ]
  },
  {
   "cell_type": "markdown",
   "metadata": {},
   "source": [
    "## Define Metrics Methods"
   ]
  },
  {
   "cell_type": "code",
   "execution_count": 8,
   "metadata": {},
   "outputs": [],
   "source": [
    "def get_metrics(y_test, y_predicted):\n",
    "    precision = precision_score(y_test, y_predicted, average='weighted')\n",
    "    recall = recall_score(y_test, y_predicted, average='weighted')\n",
    "    f1 = f1_score(y_test, y_predicted, average='weighted')\n",
    "    acc=accuracy_score(y_test, y_predicted)\n",
    "    return precision, recall, f1, acc\n",
    "\n",
    "\n",
    "def perf_measure(y_actual, y_hat):\n",
    "    TP = 0\n",
    "    FP = 0\n",
    "    TN = 0\n",
    "    FN = 0\n",
    "    for i in range(len(y_hat)): \n",
    "        if y_actual[i]==y_hat[i]==1:\n",
    "           TP += 1\n",
    "        if y_hat[i]==1 and y_actual[i]!=y_hat[i]:\n",
    "           FP += 1\n",
    "        if y_actual[i]==y_hat[i]==0:\n",
    "           TN += 1\n",
    "        if y_hat[i]==0 and y_actual[i]!=y_hat[i]:\n",
    "           FN += 1   \n",
    "    sen = TP / (TP+FN)\n",
    "    spec = TN / (TN+FP)\n",
    "    return(sen , spec)\n",
    "\n",
    "def comp_confmat(actual, predicted):\n",
    "    classes = np.unique(actual) # extract the different classes\n",
    "    matrix = np.zeros((len(classes), len(classes))) # initialize the confusion matrix with zeros\n",
    "    for i in range(len(classes)):\n",
    "        for j in range(len(classes)):\n",
    "            matrix[i, j] = np.sum((actual == classes[i]) & (predicted == classes[j]))\n",
    "    return matrix"
   ]
  },
  {
   "cell_type": "markdown",
   "metadata": {},
   "source": [
    "## StratifiedKFold"
   ]
  },
  {
   "cell_type": "code",
   "execution_count": 9,
   "metadata": {},
   "outputs": [],
   "source": [
    "skf = StratifiedKFold(n_splits=10,shuffle=True,random_state=20)"
   ]
  },
  {
   "cell_type": "markdown",
   "metadata": {},
   "source": [
    "# Define Model"
   ]
  },
  {
   "cell_type": "code",
   "execution_count": 10,
   "metadata": {},
   "outputs": [],
   "source": [
    "from sklearn.linear_model import LogisticRegression\n",
    "#from sklearn.naive_bayes import GaussianNB\n",
    "#from sklearn.discriminant_analysis import LinearDiscriminantAnalysis\n",
    "#from sklearn.tree import DecisionTreeClassifier\n",
    "#from sklearn.neural_network import MLPClassifier\n",
    "#from sklearn.svm import LinearSVC\n",
    "#from sklearn.neighbors import NearestCentroid"
   ]
  },
  {
   "cell_type": "markdown",
   "metadata": {},
   "source": [
    "## Train Method"
   ]
  },
  {
   "cell_type": "code",
   "execution_count": 12,
   "metadata": {},
   "outputs": [
    {
     "name": "stdout",
     "output_type": "stream",
     "text": [
      "time = 783.66\n",
      "sensitivity = 0.000 \n",
      "specificity = 0.000\n",
      "accuracy = 0.993\n",
      "precision = 0.993 \n",
      "recall = 0.993 \n",
      "f1 = 0.993\n"
     ]
    }
   ],
   "source": [
    "t1 = time.time()\n",
    "tempfold=1\n",
    "sumSen=0\n",
    "sumSpec=0\n",
    "for train_index, test_index in skf.split(X, y):\n",
    "    X_train, X_test = X[train_index], X[test_index]\n",
    "    y_train, y_test = y[train_index], y[test_index]\n",
    "    \n",
    "    clf = LogisticRegression().fit(X_train, y_train)\n",
    "#     clf = GaussianNB().fit(X_train, y_train)\n",
    "#     clf = LinearDiscriminantAnalysis().fit(X_train, y_train)\n",
    "#     clf = DecisionTreeClassifier().fit(X_train, y_train)\n",
    "#     clf = MLPClassifier().fit(X_train, y_train)\n",
    "#     clf = LinearSVC().fit(X_train, y_train)\n",
    "#     clf = NearestCentroid().fit(X_train, y_train)\n",
    "#     clf = NearestCentroid(metric='manhattan').fit(X_train, y_train)\n",
    "    \n",
    "    \n",
    "    y_pred = clf.predict(X_test)\n",
    "    cm=comp_confmat(y_test,y_pred)\n",
    "    np.savetxt('CM/'+'CM_fold'+str(tempfold)+'.txt',cm)\n",
    "    f = open(\"Report.txt\", \"a\")\n",
    "    f.write(\"Fold\"+str(tempfold)+':\\n')\n",
    "    precision, recall, f1,acc = get_metrics(y_test, y_pred)\n",
    "    f.write(\"precision:\"+str(precision)+'\\n')\n",
    "    f.write(\"recall:\"+str(recall)+'\\n')\n",
    "    f.write(\"f1:\"+str(f1)+'\\n')\n",
    "    f.write(\"acc:\"+str(acc)+'\\n')\n",
    "    sumP = sumP + precision\n",
    "    sumR = sumR + recall\n",
    "    sumF = sumF + f1\n",
    "    sumacc=sumacc+acc\n",
    "    f.close()\n",
    "    tempfold=tempfold+1\n",
    "    \n",
    "finalPrec = sumP/kfold\n",
    "finalRcl = sumR/kfold\n",
    "finalF = sumF/kfold\n",
    "finalSen = sumSen/kfold\n",
    "finalSpec = sumSpec/kfold\n",
    "finalacc=sumacc/kfold\n",
    "t2 = time.time()\n",
    "totalTime = t2 - t1\n",
    "print(\"time = %.2f\"  %(totalTime))\n",
    "print(\"sensitivity = %.3f \\nspecificity = %.3f\" %(finalSen, finalSpec))\n",
    "print(\"accuracy = %.3f\" %(finalacc))\n",
    "print(\"precision = %.3f \\nrecall = %.3f \\nf1 = %.3f\" %(finalPrec, finalRcl, finalF))"
   ]
  },
  {
   "cell_type": "markdown",
   "metadata": {},
   "source": [
    "## Save Info"
   ]
  },
  {
   "cell_type": "code",
   "execution_count": 13,
   "metadata": {},
   "outputs": [],
   "source": [
    "f = open(\"Metric.txt\", \"a\")\n",
    "f.write(\"Total time:\"+str(totalTime)+'\\n')\n",
    "f.write(\"Sensitivity:\"+str(finalSen)+'\\n')\n",
    "f.write(\"Specificity:\"+str(finalSpec)+'\\n')\n",
    "f.write(\"precision:\"+str(finalPrec)+'\\n')\n",
    "f.write(\"recall:\"+str(finalRcl)+'\\n')\n",
    "f.write(\"f1:\"+str(finalF)+'\\n')\n",
    "f.write(\"accuracy:\"+str(finalacc)+'\\n')\n",
    "f.close()"
   ]
  }
 ],
 "metadata": {
  "kernelspec": {
   "display_name": "Python 3",
   "language": "python",
   "name": "python3"
  },
  "language_info": {
   "codemirror_mode": {
    "name": "ipython",
    "version": 3
   },
   "file_extension": ".py",
   "mimetype": "text/x-python",
   "name": "python",
   "nbconvert_exporter": "python",
   "pygments_lexer": "ipython3",
   "version": "3.8.5"
  }
 },
 "nbformat": 4,
 "nbformat_minor": 4
}
